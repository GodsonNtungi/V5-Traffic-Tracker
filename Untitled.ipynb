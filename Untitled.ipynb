{
 "cells": [
  {
   "cell_type": "code",
   "execution_count": 1,
   "id": "c1177018-284c-4646-81a0-11521f78c63a",
   "metadata": {},
   "outputs": [
    {
     "name": "stdout",
     "output_type": "stream",
     "text": [
      "Cloning into 'yolov5'...\n",
      "remote: Enumerating objects: 15368, done.\u001b[K\n",
      "remote: Counting objects: 100% (13/13), done.\u001b[K\n",
      "remote: Compressing objects: 100% (12/12), done.\u001b[K\n",
      "remote: Total 15368 (delta 2), reused 9 (delta 1), pack-reused 15355\u001b[K\n",
      "Receiving objects: 100% (15368/15368), 14.36 MiB | 112.00 KiB/s, done.\n",
      "Resolving deltas: 100% (10502/10502), done.\n"
     ]
    }
   ],
   "source": [
    "!git clone https://github.com/ultralytics/yolov5.git"
   ]
  },
  {
   "cell_type": "code",
   "execution_count": 6,
   "id": "f1c907d9-196d-463d-bbb4-44fd051564a6",
   "metadata": {},
   "outputs": [
    {
     "name": "stdout",
     "output_type": "stream",
     "text": [
      "[Errno 2] No such file or directory: 'yolov5'\n",
      "/home/godson/Projects/Machine learning/Austin's Problem/Car Tracker/yolov5\n"
     ]
    }
   ],
   "source": [
    "%cd yolov5 "
   ]
  },
  {
   "cell_type": "code",
   "execution_count": 3,
   "id": "81c55f16-d920-4217-9749-433fee2e16d3",
   "metadata": {},
   "outputs": [
    {
     "name": "stdout",
     "output_type": "stream",
     "text": [
      "Requirement already satisfied: gitpython>=3.1.30 in /home/godson/devtools/anaconda3/lib/python3.9/site-packages (from -r requirements.txt (line 5)) (3.1.31)\n",
      "Requirement already satisfied: matplotlib>=3.2.2 in /home/godson/devtools/anaconda3/lib/python3.9/site-packages (from -r requirements.txt (line 6)) (3.5.2)\n",
      "Requirement already satisfied: numpy>=1.18.5 in /home/godson/devtools/anaconda3/lib/python3.9/site-packages (from -r requirements.txt (line 7)) (1.21.5)\n",
      "Collecting opencv-python>=4.1.1\n",
      "  Downloading opencv_python-4.7.0.72-cp37-abi3-manylinux_2_17_x86_64.manylinux2014_x86_64.whl (61.8 MB)\n",
      "\u001b[2K     \u001b[38;2;114;156;31m━━━━━━━━━━━━━━━━━━━━━━━━━━━━━━━━━━━━━━━\u001b[0m \u001b[32m61.8/61.8 MB\u001b[0m \u001b[31m292.1 kB/s\u001b[0m eta \u001b[36m0:00:00\u001b[0mm eta \u001b[36m0:00:01\u001b[0m[36m0:00:06\u001b[0m\n",
      "\u001b[?25hRequirement already satisfied: Pillow>=7.1.2 in /home/godson/devtools/anaconda3/lib/python3.9/site-packages (from -r requirements.txt (line 9)) (9.2.0)\n",
      "Requirement already satisfied: psutil in /home/godson/devtools/anaconda3/lib/python3.9/site-packages (from -r requirements.txt (line 10)) (5.9.0)\n",
      "Requirement already satisfied: PyYAML>=5.3.1 in /home/godson/devtools/anaconda3/lib/python3.9/site-packages (from -r requirements.txt (line 11)) (6.0)\n",
      "Requirement already satisfied: requests>=2.23.0 in /home/godson/devtools/anaconda3/lib/python3.9/site-packages (from -r requirements.txt (line 12)) (2.28.1)\n",
      "Requirement already satisfied: scipy>=1.4.1 in /home/godson/devtools/anaconda3/lib/python3.9/site-packages (from -r requirements.txt (line 13)) (1.9.1)\n",
      "Collecting thop>=0.1.1\n",
      "  Downloading thop-0.1.1.post2209072238-py3-none-any.whl (15 kB)\n",
      "Requirement already satisfied: torch>=1.7.0 in /home/godson/devtools/anaconda3/lib/python3.9/site-packages (from -r requirements.txt (line 15)) (2.0.0)\n",
      "Collecting torchvision>=0.8.1\n",
      "  Using cached torchvision-0.15.1-cp39-cp39-manylinux1_x86_64.whl (6.0 MB)\n",
      "Requirement already satisfied: tqdm>=4.64.0 in /home/godson/devtools/anaconda3/lib/python3.9/site-packages (from -r requirements.txt (line 17)) (4.64.1)\n",
      "Collecting tensorboard>=2.4.1\n",
      "  Downloading tensorboard-2.12.1-py3-none-any.whl (5.6 MB)\n",
      "\u001b[2K     \u001b[38;2;114;156;31m━━━━━━━━━━━━━━━━━━━━━━━━━━━━━━━━━━━━━━━━\u001b[0m \u001b[32m5.6/5.6 MB\u001b[0m \u001b[31m176.9 kB/s\u001b[0m eta \u001b[36m0:00:00\u001b[0mm eta \u001b[36m0:00:01\u001b[0m[36m0:00:01\u001b[0m\n",
      "\u001b[?25hRequirement already satisfied: pandas>=1.1.4 in /home/godson/devtools/anaconda3/lib/python3.9/site-packages (from -r requirements.txt (line 26)) (1.4.4)\n",
      "Requirement already satisfied: seaborn>=0.11.0 in /home/godson/devtools/anaconda3/lib/python3.9/site-packages (from -r requirements.txt (line 27)) (0.11.2)\n",
      "Collecting setuptools>=65.5.1\n",
      "  Downloading setuptools-67.6.1-py3-none-any.whl (1.1 MB)\n",
      "\u001b[2K     \u001b[38;2;114;156;31m━━━━━━━━━━━━━━━━━━━━━━━━━━━━━━━━━━━━━━━━\u001b[0m \u001b[32m1.1/1.1 MB\u001b[0m \u001b[31m60.7 kB/s\u001b[0m eta \u001b[36m0:00:00\u001b[0m[36m0:00:01\u001b[0mm eta \u001b[36m0:00:02\u001b[0mm\n",
      "\u001b[?25hRequirement already satisfied: gitdb<5,>=4.0.1 in /home/godson/devtools/anaconda3/lib/python3.9/site-packages (from gitpython>=3.1.30->-r requirements.txt (line 5)) (4.0.10)\n",
      "Requirement already satisfied: python-dateutil>=2.7 in /home/godson/devtools/anaconda3/lib/python3.9/site-packages (from matplotlib>=3.2.2->-r requirements.txt (line 6)) (2.8.2)\n",
      "Requirement already satisfied: kiwisolver>=1.0.1 in /home/godson/devtools/anaconda3/lib/python3.9/site-packages (from matplotlib>=3.2.2->-r requirements.txt (line 6)) (1.4.2)\n",
      "Requirement already satisfied: fonttools>=4.22.0 in /home/godson/devtools/anaconda3/lib/python3.9/site-packages (from matplotlib>=3.2.2->-r requirements.txt (line 6)) (4.25.0)\n",
      "Requirement already satisfied: cycler>=0.10 in /home/godson/devtools/anaconda3/lib/python3.9/site-packages (from matplotlib>=3.2.2->-r requirements.txt (line 6)) (0.11.0)\n",
      "Requirement already satisfied: packaging>=20.0 in /home/godson/devtools/anaconda3/lib/python3.9/site-packages (from matplotlib>=3.2.2->-r requirements.txt (line 6)) (21.3)\n",
      "Requirement already satisfied: pyparsing>=2.2.1 in /home/godson/devtools/anaconda3/lib/python3.9/site-packages (from matplotlib>=3.2.2->-r requirements.txt (line 6)) (3.0.9)\n",
      "Requirement already satisfied: idna<4,>=2.5 in /home/godson/devtools/anaconda3/lib/python3.9/site-packages (from requests>=2.23.0->-r requirements.txt (line 12)) (3.3)\n",
      "Requirement already satisfied: charset-normalizer<3,>=2 in /home/godson/devtools/anaconda3/lib/python3.9/site-packages (from requests>=2.23.0->-r requirements.txt (line 12)) (2.1.0)\n",
      "Requirement already satisfied: certifi>=2017.4.17 in /home/godson/devtools/anaconda3/lib/python3.9/site-packages (from requests>=2.23.0->-r requirements.txt (line 12)) (2022.6.15)\n",
      "Requirement already satisfied: urllib3<1.27,>=1.21.1 in /home/godson/devtools/anaconda3/lib/python3.9/site-packages (from requests>=2.23.0->-r requirements.txt (line 12)) (1.26.14)\n",
      "Requirement already satisfied: nvidia-cudnn-cu11==8.5.0.96 in /home/godson/devtools/anaconda3/lib/python3.9/site-packages (from torch>=1.7.0->-r requirements.txt (line 15)) (8.5.0.96)\n",
      "Requirement already satisfied: nvidia-nvtx-cu11==11.7.91 in /home/godson/devtools/anaconda3/lib/python3.9/site-packages (from torch>=1.7.0->-r requirements.txt (line 15)) (11.7.91)\n",
      "Requirement already satisfied: jinja2 in /home/godson/devtools/anaconda3/lib/python3.9/site-packages (from torch>=1.7.0->-r requirements.txt (line 15)) (2.11.3)\n",
      "Requirement already satisfied: nvidia-cuda-cupti-cu11==11.7.101 in /home/godson/devtools/anaconda3/lib/python3.9/site-packages (from torch>=1.7.0->-r requirements.txt (line 15)) (11.7.101)\n",
      "Requirement already satisfied: nvidia-cufft-cu11==10.9.0.58 in /home/godson/devtools/anaconda3/lib/python3.9/site-packages (from torch>=1.7.0->-r requirements.txt (line 15)) (10.9.0.58)\n",
      "Requirement already satisfied: networkx in /home/godson/devtools/anaconda3/lib/python3.9/site-packages (from torch>=1.7.0->-r requirements.txt (line 15)) (2.8.4)\n",
      "Requirement already satisfied: nvidia-cuda-nvrtc-cu11==11.7.99 in /home/godson/devtools/anaconda3/lib/python3.9/site-packages (from torch>=1.7.0->-r requirements.txt (line 15)) (11.7.99)\n",
      "Requirement already satisfied: nvidia-cusolver-cu11==11.4.0.1 in /home/godson/devtools/anaconda3/lib/python3.9/site-packages (from torch>=1.7.0->-r requirements.txt (line 15)) (11.4.0.1)\n",
      "Requirement already satisfied: nvidia-cublas-cu11==11.10.3.66 in /home/godson/devtools/anaconda3/lib/python3.9/site-packages (from torch>=1.7.0->-r requirements.txt (line 15)) (11.10.3.66)\n",
      "Requirement already satisfied: nvidia-curand-cu11==10.2.10.91 in /home/godson/devtools/anaconda3/lib/python3.9/site-packages (from torch>=1.7.0->-r requirements.txt (line 15)) (10.2.10.91)\n",
      "Requirement already satisfied: filelock in /home/godson/devtools/anaconda3/lib/python3.9/site-packages (from torch>=1.7.0->-r requirements.txt (line 15)) (3.6.0)\n",
      "Requirement already satisfied: nvidia-nccl-cu11==2.14.3 in /home/godson/devtools/anaconda3/lib/python3.9/site-packages (from torch>=1.7.0->-r requirements.txt (line 15)) (2.14.3)\n",
      "Requirement already satisfied: triton==2.0.0 in /home/godson/devtools/anaconda3/lib/python3.9/site-packages (from torch>=1.7.0->-r requirements.txt (line 15)) (2.0.0)\n",
      "Requirement already satisfied: nvidia-cusparse-cu11==11.7.4.91 in /home/godson/devtools/anaconda3/lib/python3.9/site-packages (from torch>=1.7.0->-r requirements.txt (line 15)) (11.7.4.91)\n",
      "Requirement already satisfied: sympy in /home/godson/devtools/anaconda3/lib/python3.9/site-packages (from torch>=1.7.0->-r requirements.txt (line 15)) (1.10.1)\n",
      "Requirement already satisfied: typing-extensions in /home/godson/devtools/anaconda3/lib/python3.9/site-packages (from torch>=1.7.0->-r requirements.txt (line 15)) (4.3.0)\n",
      "Requirement already satisfied: nvidia-cuda-runtime-cu11==11.7.99 in /home/godson/devtools/anaconda3/lib/python3.9/site-packages (from torch>=1.7.0->-r requirements.txt (line 15)) (11.7.99)\n",
      "Requirement already satisfied: wheel in /home/godson/devtools/anaconda3/lib/python3.9/site-packages (from nvidia-cublas-cu11==11.10.3.66->torch>=1.7.0->-r requirements.txt (line 15)) (0.37.1)\n",
      "Requirement already satisfied: lit in /home/godson/devtools/anaconda3/lib/python3.9/site-packages (from triton==2.0.0->torch>=1.7.0->-r requirements.txt (line 15)) (16.0.0)\n",
      "Requirement already satisfied: cmake in /home/godson/devtools/anaconda3/lib/python3.9/site-packages (from triton==2.0.0->torch>=1.7.0->-r requirements.txt (line 15)) (3.26.1)\n",
      "Requirement already satisfied: markdown>=2.6.8 in /home/godson/devtools/anaconda3/lib/python3.9/site-packages (from tensorboard>=2.4.1->-r requirements.txt (line 21)) (3.3.4)\n",
      "Collecting tensorboard-plugin-wit>=1.6.0\n",
      "  Using cached tensorboard_plugin_wit-1.8.1-py3-none-any.whl (781 kB)\n",
      "Requirement already satisfied: protobuf>=3.19.6 in /home/godson/devtools/anaconda3/lib/python3.9/site-packages (from tensorboard>=2.4.1->-r requirements.txt (line 21)) (3.20.3)\n",
      "Requirement already satisfied: werkzeug>=1.0.1 in /home/godson/devtools/anaconda3/lib/python3.9/site-packages (from tensorboard>=2.4.1->-r requirements.txt (line 21)) (2.0.3)\n",
      "Requirement already satisfied: google-auth-oauthlib<1.1,>=0.5 in /home/godson/devtools/anaconda3/lib/python3.9/site-packages (from tensorboard>=2.4.1->-r requirements.txt (line 21)) (1.0.0)\n",
      "Requirement already satisfied: google-auth<3,>=1.6.3 in /home/godson/devtools/anaconda3/lib/python3.9/site-packages (from tensorboard>=2.4.1->-r requirements.txt (line 21)) (2.17.1)\n",
      "Collecting absl-py>=0.4\n",
      "  Using cached absl_py-1.4.0-py3-none-any.whl (126 kB)\n",
      "Collecting tensorboard-data-server<0.8.0,>=0.7.0\n",
      "  Downloading tensorboard_data_server-0.7.0-py3-none-manylinux2014_x86_64.whl (6.6 MB)\n",
      "\u001b[2K     \u001b[38;2;114;156;31m━━━━━━━━━━━━━━━━━━━━━━━━━━━━━━━━━━━━━━━━\u001b[0m \u001b[32m6.6/6.6 MB\u001b[0m \u001b[31m80.8 kB/s\u001b[0m eta \u001b[36m0:00:00\u001b[0mm eta \u001b[36m0:00:01\u001b[0m[36m0:00:02\u001b[0mm\n",
      "\u001b[?25hRequirement already satisfied: grpcio>=1.48.2 in /home/godson/devtools/anaconda3/lib/python3.9/site-packages (from tensorboard>=2.4.1->-r requirements.txt (line 21)) (1.51.3)\n",
      "Requirement already satisfied: pytz>=2020.1 in /home/godson/devtools/anaconda3/lib/python3.9/site-packages (from pandas>=1.1.4->-r requirements.txt (line 26)) (2022.1)\n",
      "Requirement already satisfied: smmap<6,>=3.0.1 in /home/godson/devtools/anaconda3/lib/python3.9/site-packages (from gitdb<5,>=4.0.1->gitpython>=3.1.30->-r requirements.txt (line 5)) (5.0.0)\n",
      "Requirement already satisfied: pyasn1-modules>=0.2.1 in /home/godson/devtools/anaconda3/lib/python3.9/site-packages (from google-auth<3,>=1.6.3->tensorboard>=2.4.1->-r requirements.txt (line 21)) (0.2.8)\n",
      "Requirement already satisfied: rsa<5,>=3.1.4 in /home/godson/devtools/anaconda3/lib/python3.9/site-packages (from google-auth<3,>=1.6.3->tensorboard>=2.4.1->-r requirements.txt (line 21)) (4.9)\n",
      "Requirement already satisfied: six>=1.9.0 in /home/godson/devtools/anaconda3/lib/python3.9/site-packages (from google-auth<3,>=1.6.3->tensorboard>=2.4.1->-r requirements.txt (line 21)) (1.16.0)\n",
      "Requirement already satisfied: cachetools<6.0,>=2.0.0 in /home/godson/devtools/anaconda3/lib/python3.9/site-packages (from google-auth<3,>=1.6.3->tensorboard>=2.4.1->-r requirements.txt (line 21)) (5.3.0)\n",
      "Requirement already satisfied: requests-oauthlib>=0.7.0 in /home/godson/devtools/anaconda3/lib/python3.9/site-packages (from google-auth-oauthlib<1.1,>=0.5->tensorboard>=2.4.1->-r requirements.txt (line 21)) (1.3.1)\n",
      "Requirement already satisfied: MarkupSafe>=0.23 in /home/godson/devtools/anaconda3/lib/python3.9/site-packages (from jinja2->torch>=1.7.0->-r requirements.txt (line 15)) (2.0.1)\n",
      "Requirement already satisfied: mpmath>=0.19 in /home/godson/devtools/anaconda3/lib/python3.9/site-packages (from sympy->torch>=1.7.0->-r requirements.txt (line 15)) (1.2.1)\n",
      "Requirement already satisfied: pyasn1<0.5.0,>=0.4.6 in /home/godson/devtools/anaconda3/lib/python3.9/site-packages (from pyasn1-modules>=0.2.1->google-auth<3,>=1.6.3->tensorboard>=2.4.1->-r requirements.txt (line 21)) (0.4.8)\n",
      "Requirement already satisfied: oauthlib>=3.0.0 in /home/godson/devtools/anaconda3/lib/python3.9/site-packages (from requests-oauthlib>=0.7.0->google-auth-oauthlib<1.1,>=0.5->tensorboard>=2.4.1->-r requirements.txt (line 21)) (3.2.0)\n",
      "Installing collected packages: tensorboard-plugin-wit, tensorboard-data-server, setuptools, opencv-python, absl-py, tensorboard, torchvision, thop\n",
      "  Attempting uninstall: setuptools\n",
      "    Found existing installation: setuptools 63.4.1\n",
      "    Uninstalling setuptools-63.4.1:\n",
      "      Successfully uninstalled setuptools-63.4.1\n",
      "\u001b[31mERROR: pip's dependency resolver does not currently take into account all the packages that are installed. This behaviour is the source of the following dependency conflicts.\n",
      "spyder 5.3.3 requires pyqt5<5.16, which is not installed.\n",
      "spyder 5.3.3 requires pyqtwebengine<5.16, which is not installed.\n",
      "anaconda-project 0.11.1 requires ruamel-yaml, which is not installed.\n",
      "grpcio-tools 1.51.3 requires protobuf<5.0dev,>=4.21.6, but you have protobuf 3.20.3 which is incompatible.\n",
      "conda-repo-cli 1.0.20 requires clyent==1.2.1, but you have clyent 1.2.2 which is incompatible.\n",
      "conda-repo-cli 1.0.20 requires nbformat==5.4.0, but you have nbformat 5.5.0 which is incompatible.\u001b[0m\u001b[31m\n",
      "\u001b[0mSuccessfully installed absl-py-1.4.0 opencv-python-4.7.0.72 setuptools-67.6.1 tensorboard-2.12.1 tensorboard-data-server-0.7.0 tensorboard-plugin-wit-1.8.1 thop-0.1.1.post2209072238 torchvision-0.15.1\n"
     ]
    }
   ],
   "source": [
    "! pip install -r requirements.txt"
   ]
  },
  {
   "cell_type": "code",
   "execution_count": 2,
   "id": "df7c40f1-86c3-4f1f-bdb7-2b166e821abd",
   "metadata": {},
   "outputs": [],
   "source": [
    "import numpy as np"
   ]
  },
  {
   "cell_type": "code",
   "execution_count": 3,
   "id": "f7914257-109c-4b4d-92cd-059b00daabda",
   "metadata": {},
   "outputs": [
    {
     "name": "stderr",
     "output_type": "stream",
     "text": [
      "Using cache found in /home/godson/.cache/torch/hub/ultralytics_yolov5_master\n",
      "YOLOv5 🚀 2023-4-4 Python-3.9.13 torch-2.0.0+cu117 CPU\n",
      "\n",
      "Fusing layers... \n",
      "YOLOv5m summary: 290 layers, 21172173 parameters, 0 gradients\n",
      "Adding AutoShape... \n"
     ]
    }
   ],
   "source": [
    "import torch\n",
    "import cv2\n",
    "model=torch.hub.load('ultralytics/yolov5','yolov5m') "
   ]
  },
  {
   "cell_type": "code",
   "execution_count": 4,
   "id": "c1c87dc1-3d40-4b76-bbcd-43fc3d1a5505",
   "metadata": {},
   "outputs": [],
   "source": [
    "  from tqdm import tqdm"
   ]
  },
  {
   "cell_type": "code",
   "execution_count": 7,
   "id": "189fbca3-bc15-4b35-9d3a-79593762de49",
   "metadata": {},
   "outputs": [
    {
     "data": {
      "text/plain": [
       "475.0"
      ]
     },
     "execution_count": 7,
     "metadata": {},
     "output_type": "execute_result"
    }
   ],
   "source": [
    "(1050-100)/2"
   ]
  },
  {
   "cell_type": "code",
   "execution_count": 8,
   "id": "7b0d6004-cb19-437c-9536-2c3fde121c9e",
   "metadata": {},
   "outputs": [],
   "source": [
    "from ipywidgets import IntProgress\n",
    "from IPython.display import display"
   ]
  },
  {
   "cell_type": "code",
   "execution_count": 32,
   "id": "7c0214e0-68b8-47e6-b6a5-450e9e579751",
   "metadata": {},
   "outputs": [],
   "source": [
    "\n",
    "def count(video=\"cars2.mp4\",line = [(0, 700), (1900, 700)],vertical_line = [(950,500),(950,800)]):\n",
    "    cat=cv2.VideoCapture(video)\n",
    "    # newvid1=[]\n",
    "    # size=(0,0)\n",
    "    north_car_count = 0\n",
    "    south_car_count = 0\n",
    "    font = cv2.FONT_HERSHEY_SIMPLEX\n",
    "\n",
    "    # org\n",
    "    org_south = (50, 50)\n",
    "    org_north = (900,50)\n",
    "\n",
    "    # fontScale\n",
    "    fontScale = 1\n",
    "\n",
    "    # Blue color in BGR\n",
    "    color = (255, 0, 0)\n",
    "\n",
    "    # Line thickness of 2 px\n",
    "    thickness = 2\n",
    "     \n",
    "    while cat.isOpened():\n",
    "        ret,frame =cat.read()\n",
    "        if ret == False:\n",
    "            break\n",
    "        # height,width,layers=frame.shape\n",
    "        # if len(newvid1) <1:\n",
    "        #     size=(height,width)\n",
    "        result=model(frame)\n",
    "        img= cv2.line(np.squeeze(result.render()), line[0], line[1], (46,162,112), 3)\n",
    "        mg= cv2.line(img, vertical_line[0], vertical_line[1], (46,162,112), 3)\n",
    "        print(result.pandas().xyxy[0])\n",
    "\n",
    "        for i in range(len(result.pandas().xyxy[0])):\n",
    "            y1= result.pandas().xyxy[0].iloc[i].ymin\n",
    "            x1 = result.pandas().xyxy[0].iloc[i].xmin\n",
    "            print(f\"y1:{int(y1)},line:{line[0][1]}\")\n",
    "            if int(y1) == line[0][1] :\n",
    "\n",
    "                if x1 > vertical_line[0][0]:\n",
    "                    north_car_count += 1\n",
    "\n",
    "                elif x1 < vertical_line[0][0]:\n",
    "                    south_car_count +=1\n",
    "\n",
    "\n",
    "        # newvid1.append(np.squeeze(result.render()))\n",
    "        # if len(newvid1) > 500:\n",
    "        #     break\n",
    "        img =  cv2.putText(img,f\"South Count: {south_car_count}\", org_south, font, \n",
    "                       fontScale, color, thickness, cv2.LINE_AA)\n",
    "        img =  cv2.putText(img,f\"North Count: {north_car_count}\", org_north, font, \n",
    "                       fontScale, color, thickness, cv2.LINE_AA)\n",
    "        cv2.imshow('Godsons Masterpiece',img)\n",
    "        if cv2.waitKey(10) & 0xFF == ord('I'):\n",
    "            break\n",
    "    cat.release()\n",
    "    cv2.destroyAllWindows()\n",
    "    return {\"north\":north_car_count,\"south\":south_car_count},"
   ]
  },
  {
   "cell_type": "code",
   "execution_count": null,
   "id": "55da9761-602c-4ca7-9c30-dd006139bcec",
   "metadata": {},
   "outputs": [],
   "source": [
    "count()"
   ]
  },
  {
   "cell_type": "code",
   "execution_count": 38,
   "id": "9139382f-90d3-45ff-9a10-efdb76283c2b",
   "metadata": {},
   "outputs": [],
   "source": [
    "\n",
    "def count_2(video=\"cars2.mp4\",line = [(100, 600), (1050, 600)],vertical_line = [(640,400),(640,600)]):\n",
    "    cat=cv2.VideoCapture(video)\n",
    "    length = int(cat.get(cv2.CAP_PROP_FRAME_COUNT))\n",
    "    width  = int(cat.get(cv2.CAP_PROP_FRAME_WIDTH))\n",
    "    height = int(cat.get(cv2.CAP_PROP_FRAME_HEIGHT))\n",
    "    fps    = cat.get(cv2.CAP_PROP_FPS)\n",
    "    fourcc = cv2.VideoWriter_fourcc('X','V','I','D')\n",
    "    video_out = cv2.VideoWriter('filename.avi', \n",
    "                         cv2.VideoWriter_fourcc(*'MJPG'),\n",
    "                         fps, (width,height))\n",
    "    \n",
    "    loader = IntProgress(min=0, max=length)\n",
    "    north_car_count = 0\n",
    "    south_car_count = 0\n",
    "    \n",
    "    font = cv2.FONT_HERSHEY_SIMPLEX\n",
    "\n",
    "    org_south = (50, 50)\n",
    "    org_north = (900,50)\n",
    "\n",
    "    fontScale = 1\n",
    "\n",
    "    color = (255, 0, 0)\n",
    "\n",
    "    thickness = 2\n",
    "    with tqdm(total=length) as pbar:\n",
    "        while cat.isOpened():\n",
    "            ret,frame =cat.read()\n",
    "            if ret == False:\n",
    "                break\n",
    "            height,width,layers=frame.shape\n",
    "            # if len(save_video) <1:\n",
    "            #     size=(height,width)\n",
    "            result=model(frame)\n",
    "            img= cv2.line(np.squeeze(result.render()), line[0], line[1], (46,162,112), 3)\n",
    "            # img= cv2.line(img, vertical_line[0], vertical_line[1], (46,162,112), 3)\n",
    "\n",
    "            for i in range(len(result.pandas().xyxy[0])):\n",
    "                y1= result.pandas().xyxy[0].iloc[i].ymin\n",
    "                x1 = result.pandas().xyxy[0].iloc[i].xmin\n",
    "                if int(y1)-2<line[0][1] <int(y1)+2 :\n",
    "\n",
    "                    if x1 > vertical_line[0][0]:\n",
    "                        north_car_count += 1\n",
    "\n",
    "                    elif x1 < vertical_line[0][0]:\n",
    "                        south_car_count +=1\n",
    "\n",
    "\n",
    "            # newvid1.append(np.squeeze(result.render()))\n",
    "            # if len(newvid1) > 500:\n",
    "            #     break\n",
    "            img =  cv2.putText(img,f\"South Count: {south_car_count}\", org_south, font, \n",
    "                           fontScale, color, thickness, cv2.LINE_AA)\n",
    "            img =  cv2.putText(img,f\"North Count: {north_car_count}\", org_north, font, \n",
    "                           fontScale, color, thickness, cv2.LINE_AA)\n",
    "            video_out.write(img)\n",
    "            loader.value += 1\n",
    "            pbar.update(1)\n",
    "            if cv2.waitKey(10) & 0xFF == ord('I'):\n",
    "                break\n",
    "    cat.release()\n",
    "    video_out.release()\n",
    "\n",
    "    return {\"north\":north_car_count,\"south\":south_car_count},"
   ]
  },
  {
   "cell_type": "code",
   "execution_count": 39,
   "id": "5e3ae506-7c17-461d-88cd-c6e89b66613b",
   "metadata": {},
   "outputs": [
    {
     "name": "stderr",
     "output_type": "stream",
     "text": [
      "100%|█████████████████████████████████████████| 900/900 [05:48<00:00,  2.58it/s]\n"
     ]
    },
    {
     "data": {
      "text/plain": [
       "({'north': 37, 'south': 9},)"
      ]
     },
     "execution_count": 39,
     "metadata": {},
     "output_type": "execute_result"
    }
   ],
   "source": [
    "count_2(line = [(0, 700), (1900, 700)],vertical_line = [(950,500),(950,800)])"
   ]
  },
  {
   "cell_type": "code",
   "execution_count": 42,
   "id": "da67406a-ef18-4b6d-b143-d59829af9e2d",
   "metadata": {},
   "outputs": [],
   "source": [
    "cat.release()\n",
    "cv2.destroyAllWindows()"
   ]
  },
  {
   "cell_type": "code",
   "execution_count": null,
   "id": "5d79da90-66ed-422e-ae37-406bc33f6aa5",
   "metadata": {},
   "outputs": [],
   "source": [
    "import tkinter as tk\n",
    "from tkinter import filedialog\n",
    "\n",
    "class Application(tk.Frame):\n",
    "    def __init__(self, master=None):\n",
    "        super().__init__(master)\n",
    "        self.master = master\n",
    "        self.pack()\n",
    "        self.create_widgets()\n",
    "\n",
    "    def create_widgets(self):\n",
    "        self.upload_button = tk.Button(self)\n",
    "        self.upload_button[\"text\"] = \"Upload a File\"\n",
    "        self.upload_button[\"command\"] = self.upload_file\n",
    "        self.upload_button.pack(side=\"top\")\n",
    "\n",
    "        self.quit_button = tk.Button(self, text=\"Quit\", command=self.master.destroy)\n",
    "        self.quit_button.pack(side=\"bottom\")\n",
    "\n",
    "    def upload_file(self):\n",
    "        file_path = filedialog.askopenfilename()\n",
    "        print(\"Selected file:\", file_path)\n",
    "\n",
    "root = tk.Tk()\n",
    "app = Application(master=root)\n",
    "app.mainloop()\n"
   ]
  }
 ],
 "metadata": {
  "kernelspec": {
   "display_name": "Python 3 (ipykernel)",
   "language": "python",
   "name": "python3"
  },
  "language_info": {
   "codemirror_mode": {
    "name": "ipython",
    "version": 3
   },
   "file_extension": ".py",
   "mimetype": "text/x-python",
   "name": "python",
   "nbconvert_exporter": "python",
   "pygments_lexer": "ipython3",
   "version": "3.9.13"
  }
 },
 "nbformat": 4,
 "nbformat_minor": 5
}
